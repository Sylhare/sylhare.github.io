{
 "cells": [
  {
   "cell_type": "markdown",
   "id": "1b85999d",
   "metadata": {},
   "source": [
    "## Jupyter Notebook Example\n",
    "\n",
    "This is an example jupyter notebook to show some of the features of the tool"
   ]
  },
  {
   "cell_type": "markdown",
   "id": "957056e8",
   "metadata": {},
   "source": [
    "### Some Magic\n",
    "\n",
    "Let's start with some magic commands"
   ]
  },
  {
   "cell_type": "code",
   "execution_count": 3,
   "id": "e918deea",
   "metadata": {},
   "outputs": [],
   "source": [
    "%%capture\n",
    "!pip install pandas matplotlib"
   ]
  },
  {
   "cell_type": "markdown",
   "id": "16e5b2b0",
   "metadata": {},
   "source": [
    "Here is the first bit of magic:\n",
    "\n",
    "- `%%catpure` is a magic command that will capture, hence hide the output of a cell\n",
    "    - Jupyter magic commands come from [IPython](https://ipython.readthedocs.io/en/stable/interactive/magics.html) and will usually start with `%`, use `%magic` for info.\n",
    "- `!` in front of the next command allow me to execute a command directly in the terminal\n",
    "    - Here I use this command to install some dependencies "
   ]
  },
  {
   "cell_type": "code",
   "execution_count": 4,
   "id": "9f9f447e",
   "metadata": {},
   "outputs": [
    {
     "data": {
      "text/html": [
       "<p> Look at that html! 🤯</p>\n",
       "<svg width=\"100\" height=\"100\">\n",
       "  <circle cx=\"50\" cy=\"50\" r=\"40\" stroke-width=\"4\" fill=\"tomato\" />\n",
       "</svg>\n"
      ],
      "text/plain": [
       "<IPython.core.display.HTML object>"
      ]
     },
     "metadata": {},
     "output_type": "display_data"
    }
   ],
   "source": [
    "%%HTML\n",
    "<p> Look at that html! 🤯</p>\n",
    "<svg width=\"100\" height=\"100\">\n",
    "  <circle cx=\"50\" cy=\"50\" r=\"40\" stroke-width=\"4\" fill=\"tomato\" />\n",
    "</svg>"
   ]
  },
  {
   "cell_type": "code",
   "execution_count": 5,
   "id": "529cfc58",
   "metadata": {},
   "outputs": [
    {
     "name": "stdout",
     "output_type": "stream",
     "text": [
      "hello world!\n"
     ]
    }
   ],
   "source": [
    "%%ruby\n",
    "# Even ruby\n",
    "puts 'hello world!'"
   ]
  },
  {
   "cell_type": "markdown",
   "id": "968a4cd3",
   "metadata": {},
   "source": [
    "## Jupyter Customisation\n",
    "\n",
    "Let's add some jupyter packages for customization"
   ]
  },
  {
   "cell_type": "code",
   "execution_count": 6,
   "id": "a324c394",
   "metadata": {},
   "outputs": [],
   "source": [
    "%%capture\n",
    "!pip install jupyter_nbextensions_configurator jupyter_contrib_nbextensions jupyterthemes\n",
    "!jupyter contrib nbextensions install"
   ]
  },
  {
   "cell_type": "markdown",
   "id": "bfcadf80",
   "metadata": {},
   "source": [
    "Everytime you install a package or do an extension modification, you'll have to restart the notebook for the effect to be taken into consideration.\n",
    "You should now see a range of feature in a `Nbextension` tab.\n",
    "\n",
    "You can also customize your notebook...\n",
    "\n",
    "Here is a full list of the available themes from [towardsdatascience.com](https://towardsdatascience.com/7-essential-tips-for-writing-with-jupyter-notebook-60972a1a8901) which is a _must see_ with so many great article about jupyter notebook and datascience!\n",
    "![jupyter-theme.png](jupyter-theme.png)"
   ]
  },
  {
   "cell_type": "code",
   "execution_count": 7,
   "id": "d041b517",
   "metadata": {},
   "outputs": [],
   "source": [
    "%%capture\n",
    "# !jt -l                           # To list the available themes\n",
    "# !jt -t oceans16 -T -N -kl        # To add the theme with tool bar and logo\n",
    "# !jt -r                           # To remove the theme"
   ]
  },
  {
   "cell_type": "markdown",
   "id": "665be7f7",
   "metadata": {},
   "source": [
    "And like before once you run those commands you will need to restart your jupyter notebook for theme to be accounted for.\n",
    "\n",
    "Basically it adds a `custom.css` in your `~/.jupyter/` folder.\n"
   ]
  },
  {
   "cell_type": "markdown",
   "id": "aea77b94",
   "metadata": {},
   "source": [
    "### Datascience with python\n",
    "Where we use some libraries installed earlier for basic python example"
   ]
  },
  {
   "cell_type": "code",
   "execution_count": null,
   "id": "e4eb3081",
   "metadata": {},
   "outputs": [],
   "source": []
  }
 ],
 "metadata": {
  "kernelspec": {
   "display_name": "Python 3",
   "language": "python",
   "name": "python3"
  },
  "language_info": {
   "codemirror_mode": {
    "name": "ipython",
    "version": 3
   },
   "file_extension": ".py",
   "mimetype": "text/x-python",
   "name": "python",
   "nbconvert_exporter": "python",
   "pygments_lexer": "ipython3",
   "version": "3.9.4"
  }
 },
 "nbformat": 4,
 "nbformat_minor": 5
}
